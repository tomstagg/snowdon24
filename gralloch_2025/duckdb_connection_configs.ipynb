{
 "cells": [
  {
   "cell_type": "markdown",
   "id": "4c4b3976-694e-4213-8664-ecdaae77302f",
   "metadata": {},
   "source": [
    "## connect using raw duckdb"
   ]
  },
  {
   "cell_type": "code",
   "execution_count": 41,
   "id": "a3507ce5-bf38-4ec6-967e-f12da11946a8",
   "metadata": {},
   "outputs": [],
   "source": [
    "import numpy as np\n",
    "import pandas as pd\n",
    "\n",
    "num_rows = 1_000_000\n",
    "num_cols = 100\n",
    "\n",
    "df = pd.DataFrame(np.random.randn(num_rows, num_cols))"
   ]
  },
  {
   "cell_type": "code",
   "execution_count": 42,
   "id": "1b2be942-51bf-4f01-b408-d97d85f31c4d",
   "metadata": {},
   "outputs": [],
   "source": [
    "import duckdb\n",
    "import pandas as pd\n",
    "\n",
    "conn = duckdb.connect()"
   ]
  },
  {
   "cell_type": "code",
   "execution_count": 43,
   "id": "9434bf33-3e19-48df-93d9-c18e37f3df80",
   "metadata": {},
   "outputs": [
    {
     "name": "stdout",
     "output_type": "stream",
     "text": [
      "2.47 s ± 238 ms per loop (mean ± std. dev. of 7 runs, 1 loop each)\n"
     ]
    }
   ],
   "source": [
    "%%timeit\n",
    "conn.execute(\"SELECT * FROM df\").df()"
   ]
  },
  {
   "cell_type": "markdown",
   "id": "e14d7546-ccab-4e56-af48-9db2bd8442a1",
   "metadata": {},
   "source": [
    "## connect using sql Alchemy"
   ]
  },
  {
   "cell_type": "code",
   "execution_count": 39,
   "id": "e049c72a-efd7-4af2-a3f5-ff45d7d80734",
   "metadata": {},
   "outputs": [
    {
     "name": "stdout",
     "output_type": "stream",
     "text": [
      "The sql extension is already loaded. To reload it, use:\n",
      "  %reload_ext sql\n"
     ]
    },
    {
     "data": {
      "text/html": [
       "<div>\n",
       "<style scoped>\n",
       "    .dataframe tbody tr th:only-of-type {\n",
       "        vertical-align: middle;\n",
       "    }\n",
       "\n",
       "    .dataframe tbody tr th {\n",
       "        vertical-align: top;\n",
       "    }\n",
       "\n",
       "    .dataframe thead th {\n",
       "        text-align: right;\n",
       "    }\n",
       "</style>\n",
       "<table border=\"1\" class=\"dataframe\">\n",
       "  <thead>\n",
       "    <tr style=\"text-align: right;\">\n",
       "      <th></th>\n",
       "      <th>Success</th>\n",
       "    </tr>\n",
       "  </thead>\n",
       "  <tbody>\n",
       "  </tbody>\n",
       "</table>\n",
       "</div>"
      ],
      "text/plain": [
       "Empty DataFrame\n",
       "Columns: [Success]\n",
       "Index: []"
      ]
     },
     "execution_count": 39,
     "metadata": {},
     "output_type": "execute_result"
    }
   ],
   "source": [
    "%load_ext sql\n",
    "%config SqlMagic.autopandas = True\n",
    "%config SqlMagic.feedback = False\n",
    "%config SqlMagic.displaycon = False\n",
    "%sql duckdb:// --alias duckdb-sqlalchemy\n",
    "%sql SET python_scan_all_frames=true # this makes pandas data frames queryable for duckdb >= 1.1.0"
   ]
  },
  {
   "cell_type": "code",
   "execution_count": 57,
   "id": "f5de75e0-4344-406c-be2d-d5bf58d24e33",
   "metadata": {
    "editable": true,
    "jp-MarkdownHeadingCollapsed": true,
    "slideshow": {
     "slide_type": ""
    },
    "tags": []
   },
   "outputs": [
    {
     "name": "stdout",
     "output_type": "stream",
     "text": [
      "2.11 s ± 62 ms per loop (mean ± std. dev. of 7 runs, 1 loop each)\n"
     ]
    }
   ],
   "source": [
    "%%timeit\n",
    "_ = %sql select * from df;"
   ]
  },
  {
   "cell_type": "markdown",
   "id": "f5ef2f19-e6b0-4f24-9ac6-2e65c7c6f9b7",
   "metadata": {},
   "source": [
    "## connect with duckdb native"
   ]
  },
  {
   "cell_type": "code",
   "execution_count": 44,
   "id": "06b610fe-8bfe-4957-8261-d15605c813aa",
   "metadata": {},
   "outputs": [],
   "source": [
    "%sql conn --alias duckdb-native"
   ]
  },
  {
   "cell_type": "code",
   "execution_count": 46,
   "id": "39822886-dd2e-4e2f-bf73-a2b0fa931d22",
   "metadata": {},
   "outputs": [
    {
     "name": "stdout",
     "output_type": "stream",
     "text": [
      "The sql extension is already loaded. To reload it, use:\n",
      "  %reload_ext sql\n"
     ]
    }
   ],
   "source": [
    "%load_ext sql\n",
    "conn = duckdb.connect()\n",
    "%sql conn --alias duckdb"
   ]
  },
  {
   "cell_type": "code",
   "execution_count": 55,
   "id": "6ece3d65-b3f1-4778-8e34-1d091585e330",
   "metadata": {},
   "outputs": [],
   "source": [
    "%sql out_df << select * from df"
   ]
  },
  {
   "cell_type": "code",
   "execution_count": 56,
   "id": "b6ace55d-bd15-4eac-b60c-10bc22a8942d",
   "metadata": {},
   "outputs": [
    {
     "name": "stdout",
     "output_type": "stream",
     "text": [
      "2.16 s ± 94.7 ms per loop (mean ± std. dev. of 7 runs, 1 loop each)\n"
     ]
    }
   ],
   "source": [
    "%%timeit\n",
    "_ = %sql SELECT * FROM df"
   ]
  },
  {
   "cell_type": "code",
   "execution_count": null,
   "id": "ac01bac5-c5db-41da-83b2-ad1dba907c86",
   "metadata": {},
   "outputs": [],
   "source": []
  }
 ],
 "metadata": {
  "kernelspec": {
   "display_name": "Python 3 (ipykernel)",
   "language": "python",
   "name": "python3"
  },
  "language_info": {
   "codemirror_mode": {
    "name": "ipython",
    "version": 3
   },
   "file_extension": ".py",
   "mimetype": "text/x-python",
   "name": "python",
   "nbconvert_exporter": "python",
   "pygments_lexer": "ipython3",
   "version": "3.12.9"
  }
 },
 "nbformat": 4,
 "nbformat_minor": 5
}
