{
 "cells": [
  {
   "cell_type": "markdown",
   "id": "b77f47c0-7f0e-4b0f-acf5-d128be2d237e",
   "metadata": {},
   "source": [
    "# analysis\n",
    "using duckdb native connection with jupysql. Jupytsql converts code cell into a sql cell.\n"
   ]
  },
  {
   "cell_type": "code",
   "execution_count": 1,
   "id": "b817a552-386d-4cf8-8e74-6922834b51bc",
   "metadata": {},
   "outputs": [],
   "source": [
    "%config SqlMagic.autopandas = True\n",
    "%config SqlMagic.feedback = False\n",
    "%config SqlMagic.displaycon = False"
   ]
  },
  {
   "cell_type": "code",
   "execution_count": 2,
   "id": "6bc5e87f-a6e2-4bbe-92c1-395e910e901f",
   "metadata": {},
   "outputs": [],
   "source": [
    "import duckdb\n",
    "import pandas as pd"
   ]
  },
  {
   "cell_type": "code",
   "execution_count": 3,
   "id": "7da758b4-7dd6-4d74-8acb-c97047de4e66",
   "metadata": {},
   "outputs": [
    {
     "data": {
      "text/html": [
       "<span style=\"None\">Tip: You may define configurations in /Users/x2027763/personal/snowdon24/pyproject.toml or /Users/x2027763/.jupysql/config. </span>"
      ],
      "text/plain": [
       "Tip: You may define configurations in /Users/x2027763/personal/snowdon24/pyproject.toml or /Users/x2027763/.jupysql/config. "
      ]
     },
     "metadata": {},
     "output_type": "display_data"
    },
    {
     "data": {
      "text/html": [
       "Please review our <a href='https://jupysql.ploomber.io/en/latest/api/configuration.html#loading-from-a-file'>configuration guideline</a>."
      ],
      "text/plain": [
       "<IPython.core.display.HTML object>"
      ]
     },
     "metadata": {},
     "output_type": "display_data"
    },
    {
     "data": {
      "text/html": [
       "<span style=\"None\">Did not find user configurations in /Users/x2027763/personal/snowdon24/pyproject.toml.</span>"
      ],
      "text/plain": [
       "Did not find user configurations in /Users/x2027763/personal/snowdon24/pyproject.toml."
      ]
     },
     "metadata": {},
     "output_type": "display_data"
    }
   ],
   "source": [
    "%load_ext sql"
   ]
  },
  {
   "cell_type": "code",
   "execution_count": 9,
   "id": "d7feb20c-fdb0-4dcc-96c6-d84f2e03ddb9",
   "metadata": {},
   "outputs": [],
   "source": [
    "conn = duckdb.connect()\n",
    "%sql conn --alias duckdb"
   ]
  },
  {
   "cell_type": "code",
   "execution_count": 10,
   "id": "462bf4d2-a209-4aa7-89d5-f08bdaa6236d",
   "metadata": {},
   "outputs": [],
   "source": [
    "input_df = pd.DataFrame.from_dict({\"i\": [1, 2, 3], \"j\": [\"one\", \"two\", \"three\"]})"
   ]
  },
  {
   "cell_type": "code",
   "execution_count": 11,
   "id": "98a06d11-1f07-40a0-86c6-97f432af8fa4",
   "metadata": {},
   "outputs": [
    {
     "data": {
      "text/html": [
       "<div>\n",
       "<style scoped>\n",
       "    .dataframe tbody tr th:only-of-type {\n",
       "        vertical-align: middle;\n",
       "    }\n",
       "\n",
       "    .dataframe tbody tr th {\n",
       "        vertical-align: top;\n",
       "    }\n",
       "\n",
       "    .dataframe thead th {\n",
       "        text-align: right;\n",
       "    }\n",
       "</style>\n",
       "<table border=\"1\" class=\"dataframe\">\n",
       "  <thead>\n",
       "    <tr style=\"text-align: right;\">\n",
       "      <th></th>\n",
       "      <th>total_i</th>\n",
       "    </tr>\n",
       "  </thead>\n",
       "  <tbody>\n",
       "    <tr>\n",
       "      <th>0</th>\n",
       "      <td>6.0</td>\n",
       "    </tr>\n",
       "  </tbody>\n",
       "</table>\n",
       "</div>"
      ],
      "text/plain": [
       "   total_i\n",
       "0      6.0"
      ]
     },
     "execution_count": 11,
     "metadata": {},
     "output_type": "execute_result"
    }
   ],
   "source": [
    "%sql select sum(i) as total_i from input_df;"
   ]
  },
  {
   "cell_type": "code",
   "execution_count": 12,
   "id": "bc4a6c67-6551-4a3c-8b9b-02af7cb84b8b",
   "metadata": {},
   "outputs": [],
   "source": [
    "%%sql\n",
    "output_df << SELECT sum(i) AS total_i \n",
    "FROM input_df;"
   ]
  },
  {
   "cell_type": "code",
   "execution_count": null,
   "id": "1b86dd09-b42a-4404-8541-54e6dccdb1f9",
   "metadata": {},
   "outputs": [],
   "source": []
  }
 ],
 "metadata": {
  "kernelspec": {
   "display_name": "Python (duckdb)",
   "language": "python",
   "name": "duckdb-env"
  },
  "language_info": {
   "codemirror_mode": {
    "name": "ipython",
    "version": 3
   },
   "file_extension": ".py",
   "mimetype": "text/x-python",
   "name": "python",
   "nbconvert_exporter": "python",
   "pygments_lexer": "ipython3",
   "version": "3.12.7"
  }
 },
 "nbformat": 4,
 "nbformat_minor": 5
}
